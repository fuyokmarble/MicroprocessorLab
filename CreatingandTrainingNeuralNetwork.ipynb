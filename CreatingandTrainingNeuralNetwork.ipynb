{
  "nbformat": 4,
  "nbformat_minor": 0,
  "metadata": {
    "kernelspec": {
      "display_name": "Python 3",
      "language": "python",
      "name": "python3"
    },
    "language_info": {
      "codemirror_mode": {
        "name": "ipython",
        "version": 3
      },
      "file_extension": ".py",
      "mimetype": "text/x-python",
      "name": "python",
      "nbconvert_exporter": "python",
      "pygments_lexer": "ipython3",
      "version": "3.7.9"
    },
    "colab": {
      "name": "Creating_and_Training_a_Neural_Network_in_Python_group.ipynb",
      "provenance": [],
      "collapsed_sections": [
        "aS5ksx3RN9A5"
      ],
      "include_colab_link": true
    }
  },
  "cells": [
    {
      "cell_type": "markdown",
      "metadata": {
        "id": "view-in-github",
        "colab_type": "text"
      },
      "source": [
        "<a href=\"https://colab.research.google.com/github/fuyokmarble/MicroprocessorLab/blob/master/CreatingandTrainingNeuralNetwork.ipynb\" target=\"_parent\"><img src=\"https://colab.research.google.com/assets/colab-badge.svg\" alt=\"Open In Colab\"/></a>"
      ]
    },
    {
      "cell_type": "markdown",
      "metadata": {
        "id": "KFwOPMaF8Oc8"
      },
      "source": [
        "# **Neural Network**"
      ]
    },
    {
      "cell_type": "markdown",
      "metadata": {
        "id": "gzcJ7Ejb61KX"
      },
      "source": [
        "**Member**\n",
        "1. Arpanant Saeng-Xuto   62011096\n",
        "2. Kanokporn Choosanguan 62011132\n",
        "3. Kritjuhn Kaklai       62011268"
      ]
    },
    {
      "cell_type": "markdown",
      "metadata": {
        "id": "c7QTzqXC9VLU"
      },
      "source": [
        "In this notebook, we create a neural network `Model` class:\n",
        "\n",
        "* Create a model by adding dense layers to it\n",
        "* Layers have relu activation function except the output layer which has sigmoid activation\n",
        "* Optimization algorithm would be gradient descent\n",
        "* Also have a train method to perform the training. The training will be initialise parameters, forward prop, compute cost, backward prop and update parameters"
      ]
    },
    {
      "cell_type": "markdown",
      "metadata": {
        "id": "zWlYNFw49VLX"
      },
      "source": [
        "## Helper Functions and Libraries"
      ]
    },
    {
      "cell_type": "code",
      "metadata": {
        "id": "PS4Mx-eg9VLX"
      },
      "source": [
        "%matplotlib inline\n",
        "\n",
        "import numpy as np\n",
        "import matplotlib.pyplot as plt\n",
        "\n",
        "def relu(Z):\n",
        "    R = np.maximum(0, Z)\n",
        "    return R\n",
        "\n",
        "def sigmoid(Z): \n",
        "    S = 1 / (1 + np.exp(-1 * Z))\n",
        "    return S\n",
        "\n",
        "def relu_derivative(Z):\n",
        "    Z[Z >= 0] = 1\n",
        "    Z[Z < 0]  = 0\n",
        "    return Z\n",
        "\n",
        "def sigmoid_derivative(Z):\n",
        "    SD = sigmoid(Z) * (1 - sigmoid(Z))\n",
        "    return SD"
      ],
      "execution_count": 1,
      "outputs": []
    },
    {
      "cell_type": "markdown",
      "metadata": {
        "id": "EXXR6UYV8kCX"
      },
      "source": [
        "Declare functions of Sigmoid, Derivative of the Sigmoid, Rectified Linear Activation, and Derivative of the Rectified Linear Activation.\n"
      ]
    },
    {
      "cell_type": "markdown",
      "metadata": {
        "id": "bsPEUJ1F9VLY"
      },
      "source": [
        "## NN Model"
      ]
    },
    {
      "cell_type": "code",
      "metadata": {
        "id": "RXgrBuOA9VLY"
      },
      "source": [
        "class Model():\n",
        "    def __init__(self): #objects are created from the class and it allow the class to initialize the attributes of a class.\n",
        "        self.layers = []\n",
        "        self.L = 0 \n",
        "        self.W = {} #Weights\n",
        "        self.b = {} #Bias\n",
        "        self.A = {} \n",
        "        self.Z = {} \n",
        "        self.dA = {}\n",
        "        self.dZ = {}\n",
        "        self.dW = {}\n",
        "        self.db = {}\n",
        "        self.cost = 0.\n",
        "        self.m = 0\n",
        "        self.lam = 0\n",
        "        self.cost_history = []\n",
        "        self.acc_history = []\n",
        "        self.alpha_history = []\n",
        "        self.alpha = 0.\n",
        "        self.iterations = 0\n",
        "\n",
        "    def add_layers(self, list_of_layers):\n",
        "        self.layers = list_of_layers\n",
        "        self.L = len(self.layers) - 1 # Number of layers excluding the input feature layer\n",
        "    \n",
        "    def init_params(self):\n",
        "        for i in range(1, self.L + 1):\n",
        "            self.W[str(i)] = np.random.randn(self.layers[i], self.layers[i - 1]) * np.sqrt(2. / self.layers[i - 1])\n",
        "            self.b[str(i)] = np.zeros((self.layers[i], 1))\n",
        "    \n",
        "    def forward_prop(self, X):\n",
        "        self.A['0'] = X\n",
        "        \n",
        "        for i in range(1, self.L + 1):\n",
        "            self.Z[str(i)] = np.dot(self.W[str(i)], self.A[str(i - 1)]) + self.b[str(i)]\n",
        "            if i == self.L:\n",
        "                # Output layer, Sigmoid activation\n",
        "                self.A[str(i)] = sigmoid(self.Z[str(i)])\n",
        "            else:\n",
        "                # Hidden layer, Relu activataion\n",
        "                self.A[str(i)] = relu(self.Z[str(i)])\n",
        "    \n",
        "    def compute_cost(self, Y):\n",
        "        self.cost = -1 * np.sum(np.multiply(Y, np.log(self.A[str(self.L)])) + np.multiply(1 - Y, np.log(1 - self.A[str(self.L)]))) / self.m \n",
        "        \n",
        "        if self.lam != 0:\n",
        "            reg = (self.lam / (2 * self.m))\n",
        "            for i in range(1, self.L + 1):\n",
        "                reg += np.sum(np.dot(self.W[str(i)], self.W[str(i)].T))\n",
        "            self.cost += reg\n",
        "            \n",
        "        self.cost_history.append(self.cost)\n",
        "    \n",
        "    def backward_prop(self, Y):\n",
        "        # We need dA[str(L)] to start the backward prop computation\n",
        "        self.dA[str(self.L)] = -1 * (np.divide(Y, self.A[str(self.L)]) - np.divide(1 - Y, 1 - self.A[str(self.L)]))\n",
        "        self.dZ[str(self.L)] = np.multiply(self.dA[str(self.L)], sigmoid_derivative(self.Z[str(self.L)]))\n",
        "        self.dW[str(self.L)] = np.dot(self.dZ[str(self.L)], self.A[str(self.L - 1)].T) / self.m + (self.lam/self.m) * self.W[str(self.L)]\n",
        "        self.db[str(self.L)] = np.sum(self.dZ[str(self.L)], axis = 1, keepdims = True) / self.m\n",
        "        self.dA[str(self.L - 1)] = np.dot(self.W[str(self.L)].T, self.dZ[str(self.L)])\n",
        "            \n",
        "        for i in reversed(range(1, self.L)):\n",
        "\n",
        "            self.dZ[str(i)] = np.multiply(self.dA[str(i)], relu_derivative(self.Z[str(i)]))\n",
        "            self.dW[str(i)] = np.dot(self.dZ[str(i)], self.A[str(i - 1)].T) / self.m + (self.lam/self.m) * self.W[str(i)]\n",
        "            self.db[str(i)] = np.sum(self.dZ[str(i)], axis = 1, keepdims = True) / self.m\n",
        "            self.dA[str(i - 1)] = np.dot(self.W[str(i)].T, self.dZ[str(i)])\n",
        "    \n",
        "    def update_params(self):\n",
        "        for i in range(1, self.L + 1):\n",
        "            self.W[str(i)] = self.W[str(i)] - self.alpha * self.dW[str(i)]\n",
        "            self.b[str(i)] = self.b[str(i)] - self.alpha * self.db[str(i)]\n",
        "    \n",
        "    def train(self, X, Y, iterations = 10, \n",
        "        alpha = 0.001, decay = True, decay_iter = 5, decay_rate = 0.9, stop_decay_counter = 100,\n",
        "        verbose = True, lam = 0):\n",
        "        \n",
        "        self.m = Y.shape[1]\n",
        "        self.alpha = alpha\n",
        "        self.iterations = iterations\n",
        "        self.lam = lam\n",
        "        \n",
        "        # initialize parameters\n",
        "        self.init_params()\n",
        "\n",
        "        for i in range(iterations):\n",
        "            # forward prop\n",
        "            self.forward_prop(X)\n",
        "            # compute cost\n",
        "            self.compute_cost(Y)\n",
        "            # backward prop\n",
        "            self.backward_prop(Y)\n",
        "            # update params\n",
        "            self.update_params()\n",
        "            # evaluate\n",
        "            self.acc_history.append(self.evaluate(X, Y, in_training = True))\n",
        "            # save alpha\n",
        "            self.alpha_history.append(self.alpha)\n",
        "            # learning rate decay\n",
        "            if decay and stop_decay_counter > 0 and i % decay_iter == 0:\n",
        "                self.alpha = decay_rate * self.alpha\n",
        "                stop_decay_counter -= 1\n",
        "            # display cost per iteration\n",
        "            if verbose:\n",
        "                print('Cost after {} iterations: {}'.format(i, self.cost))\n",
        "    \n",
        "    def predict(self, X, in_training = False):\n",
        "        if in_training == False:\n",
        "            self.forward_prop(X)\n",
        "            \n",
        "        preds = self.A[str(self.L)] >= 0.5\n",
        "        preds = np.squeeze(preds)\n",
        "        return preds\n",
        "        \n",
        "    def evaluate(self, X, Y, in_training = False):\n",
        "        examples = X.shape[1]\n",
        "        \n",
        "        pred = self.predict(X, in_training = in_training)\n",
        "        pred = pred.reshape(1, examples)\n",
        "        diff = np.sum(abs(pred - Y))\n",
        "        acc = (examples - np.sum(diff)) / examples\n",
        "        return acc\n",
        "    \n",
        "    def plot_cost(self):\n",
        "        plt.plot(range(self.iterations), self.cost_history, color = 'b')\n",
        "        plt.show()\n",
        "    \n",
        "    def plot_acc(self):\n",
        "        plt.plot(range(self.iterations), self.acc_history, color = 'r')\n",
        "        plt.show()\n",
        "    \n",
        "    def plot_alpha(self):\n",
        "        plt.plot(range(self.iterations), self.alpha_history, color = 'g')\n",
        "        plt.show()"
      ],
      "execution_count": 2,
      "outputs": []
    },
    {
      "cell_type": "markdown",
      "metadata": {
        "id": "JFJ9gDVR9VLe"
      },
      "source": [
        "## Testing the Model"
      ]
    },
    {
      "cell_type": "code",
      "metadata": {
        "id": "jDWLhosE9VLf"
      },
      "source": [
        "m = Model()\n",
        "m.add_layers([2, 2, 1])\n",
        "X = np.array([\n",
        "    [1., 0., 0., 0., -10., 9.],\n",
        "    [0., 1., 0., -6., -4., -1.]])\n",
        "Y = np.array([1, 1, 1, 0, 0, 1])\n",
        "Y = Y.reshape(1, 6)\n",
        "\n",
        "m.train(X, Y, iterations = 50, alpha = 0.1, verbose = False)\n",
        "#m.train(X, Y, iterations = 50, alpha = 0.1, verbose = True)"
      ],
      "execution_count": 3,
      "outputs": []
    },
    {
      "cell_type": "code",
      "metadata": {
        "colab": {
          "base_uri": "https://localhost:8080/",
          "height": 765
        },
        "id": "QiA82-5T9VLf",
        "outputId": "dfa26268-046d-4999-9461-bc72320562b9"
      },
      "source": [
        "m.plot_cost()\n",
        "m.plot_acc()\n",
        "m.plot_alpha()"
      ],
      "execution_count": 4,
      "outputs": [
        {
          "output_type": "display_data",
          "data": {
            "image/png": "[encoded data removed]",
            "text/plain": [
              "<Figure size 432x288 with 1 Axes>"
            ]
          },
          "metadata": {
            "needs_background": "light"
          }
        },
        {
          "output_type": "display_data",
          "data": {
            "image/png": "[encoded data removed]",
            "text/plain": [
              "<Figure size 432x288 with 1 Axes>"
            ]
          },
          "metadata": {
            "needs_background": "light"
          }
        },
        {
          "output_type": "display_data",
          "data": {
            "image/png": "[encoded data removed]",
            "text/plain": [
              "<Figure size 432x288 with 1 Axes>"
            ]
          },
          "metadata": {
            "needs_background": "light"
          }
        }
      ]
    },
    {
      "cell_type": "code",
      "metadata": {
        "colab": {
          "base_uri": "https://localhost:8080/",
          "height": 0
        },
        "id": "LIY_gUnM9VLf",
        "outputId": "d78e6feb-0c8b-4297-9d5e-74dc5aa0bcef"
      },
      "source": [
        "print(m.evaluate(X, Y))"
      ],
      "execution_count": 5,
      "outputs": [
        {
          "output_type": "stream",
          "name": "stdout",
          "text": [
            "0.8333333333333334\n"
          ]
        }
      ]
    },
    {
      "cell_type": "code",
      "metadata": {
        "colab": {
          "base_uri": "https://localhost:8080/",
          "height": 0
        },
        "id": "Qa31gF-f9VLf",
        "outputId": "ae8da8e2-1094-412f-b604-db45114ce306"
      },
      "source": [
        "print(m.predict(X))"
      ],
      "execution_count": 6,
      "outputs": [
        {
          "output_type": "stream",
          "name": "stdout",
          "text": [
            "[ True  True  True False  True  True]\n"
          ]
        }
      ]
    },
    {
      "cell_type": "markdown",
      "metadata": {
        "id": "vaGSzip-9VLf"
      },
      "source": [
        "## Haberman Survival Dataset"
      ]
    },
    {
      "cell_type": "markdown",
      "metadata": {
        "id": "5HgrOFGV9VLg"
      },
      "source": [
        "Dataset contains cases from study conducted on the survival of patients who had undergone surgery for breast cancer. Get the data and its description from UCI's [Machine Learning Repo](https://archive.ics.uci.edu/ml/datasets/Haberman%27s+Survival)."
      ]
    },
    {
      "cell_type": "code",
      "metadata": {
        "colab": {
          "base_uri": "https://localhost:8080/",
          "height": 203
        },
        "id": "LfbHqZ9s9VLg",
        "outputId": "689bb770-5102-4721-ff85-937c0ae6c18b"
      },
      "source": [
        "import pandas as pd\n",
        "\n",
        "data = pd.read_csv('https://archive.ics.uci.edu/ml/machine-learning-databases/haberman/haberman.data', sep = ',', header = None)\n",
        "data.head()"
      ],
      "execution_count": 7,
      "outputs": [
        {
          "output_type": "execute_result",
          "data": {
            "text/html": [
              "<div>\n",
              "<style scoped>\n",
              "    .dataframe tbody tr th:only-of-type {\n",
              "        vertical-align: middle;\n",
              "    }\n",
              "\n",
              "    .dataframe tbody tr th {\n",
              "        vertical-align: top;\n",
              "    }\n",
              "\n",
              "    .dataframe thead th {\n",
              "        text-align: right;\n",
              "    }\n",
              "</style>\n",
              "<table border=\"1\" class=\"dataframe\">\n",
              "  <thead>\n",
              "    <tr style=\"text-align: right;\">\n",
              "      <th></th>\n",
              "      <th>0</th>\n",
              "      <th>1</th>\n",
              "      <th>2</th>\n",
              "      <th>3</th>\n",
              "    </tr>\n",
              "  </thead>\n",
              "  <tbody>\n",
              "    <tr>\n",
              "      <th>0</th>\n",
              "      <td>30</td>\n",
              "      <td>64</td>\n",
              "      <td>1</td>\n",
              "      <td>1</td>\n",
              "    </tr>\n",
              "    <tr>\n",
              "      <th>1</th>\n",
              "      <td>30</td>\n",
              "      <td>62</td>\n",
              "      <td>3</td>\n",
              "      <td>1</td>\n",
              "    </tr>\n",
              "    <tr>\n",
              "      <th>2</th>\n",
              "      <td>30</td>\n",
              "      <td>65</td>\n",
              "      <td>0</td>\n",
              "      <td>1</td>\n",
              "    </tr>\n",
              "    <tr>\n",
              "      <th>3</th>\n",
              "      <td>31</td>\n",
              "      <td>59</td>\n",
              "      <td>2</td>\n",
              "      <td>1</td>\n",
              "    </tr>\n",
              "    <tr>\n",
              "      <th>4</th>\n",
              "      <td>31</td>\n",
              "      <td>65</td>\n",
              "      <td>4</td>\n",
              "      <td>1</td>\n",
              "    </tr>\n",
              "  </tbody>\n",
              "</table>\n",
              "</div>"
            ],
            "text/plain": [
              "    0   1  2  3\n",
              "0  30  64  1  1\n",
              "1  30  62  3  1\n",
              "2  30  65  0  1\n",
              "3  31  59  2  1\n",
              "4  31  65  4  1"
            ]
          },
          "metadata": {},
          "execution_count": 7
        }
      ]
    },
    {
      "cell_type": "markdown",
      "metadata": {
        "id": "w_ckueOy9VLg"
      },
      "source": [
        "We have three features and one class. 1 means that the patient survived for 5 years or longer and 2 means that the patient died within 5 years."
      ]
    },
    {
      "cell_type": "code",
      "metadata": {
        "colab": {
          "base_uri": "https://localhost:8080/",
          "height": 0
        },
        "id": "Yyti2Txt9VLg",
        "outputId": "2823faa2-c553-4651-a498-bfe8032fb671"
      },
      "source": [
        "X_train = data.iloc[:,:-1]\n",
        "Y_train = data.iloc[:, -1]\n",
        "\n",
        "X_train = np.array(X_train)\n",
        "Y_train = np.array(Y_train)\n",
        "Y_train = Y_train.reshape(Y_train.shape[0], 1)\n",
        "\n",
        "print(X_train.shape)\n",
        "print(Y_train.shape)"
      ],
      "execution_count": 8,
      "outputs": [
        {
          "output_type": "stream",
          "name": "stdout",
          "text": [
            "(306, 3)\n",
            "(306, 1)\n"
          ]
        }
      ]
    },
    {
      "cell_type": "code",
      "metadata": {
        "id": "iFsUBWQs9VLg"
      },
      "source": [
        "mean = np.mean(X_train, axis = 0)\n",
        "variance = np.var(X_train, axis = 0)\n",
        "\n",
        "X_train = np.divide((X_train - mean), variance)"
      ],
      "execution_count": 9,
      "outputs": []
    },
    {
      "cell_type": "code",
      "metadata": {
        "colab": {
          "base_uri": "https://localhost:8080/",
          "height": 0
        },
        "id": "ynCpbr-c9VLh",
        "outputId": "5d95d590-a9d4-4d11-a101-a6435f8d4a66"
      },
      "source": [
        "print(X_train[0])"
      ],
      "execution_count": 10,
      "outputs": [
        {
          "output_type": "stream",
          "name": "stdout",
          "text": [
            "[-0.19304484  0.10899327 -0.05873476]\n"
          ]
        }
      ]
    },
    {
      "cell_type": "code",
      "metadata": {
        "id": "yzDvRQ2o9VLh"
      },
      "source": [
        "Y_train = Y_train - 1\n",
        "# Changing label 1 to 0 and label 2 to 1"
      ],
      "execution_count": 11,
      "outputs": []
    },
    {
      "cell_type": "code",
      "metadata": {
        "colab": {
          "base_uri": "https://localhost:8080/",
          "height": 0
        },
        "id": "ZgLrmD4j9VLh",
        "outputId": "fd52ed08-2ea2-4828-9862-0156310afe6b"
      },
      "source": [
        "# Split the data into test and train sets\n",
        "from sklearn.utils import shuffle\n",
        "\n",
        "X_train, Y_train = shuffle(X_train, Y_train)\n",
        "\n",
        "X_test = X_train[250:,:]\n",
        "Y_test = Y_train[250:,:]\n",
        "\n",
        "X_train_ = X_train[:250,:]\n",
        "Y_train_ = Y_train[:250,:]\n",
        "\n",
        "print(X_train_.shape)\n",
        "print(Y_train_.shape)\n",
        "print(X_test.shape)\n",
        "print(Y_test.shape)"
      ],
      "execution_count": 12,
      "outputs": [
        {
          "output_type": "stream",
          "name": "stdout",
          "text": [
            "(250, 3)\n",
            "(250, 1)\n",
            "(56, 3)\n",
            "(56, 1)\n"
          ]
        }
      ]
    },
    {
      "cell_type": "code",
      "metadata": {
        "id": "Jiir3nSC9VLh"
      },
      "source": [
        "X_train_ = X_train_.reshape(3, 250)\n",
        "Y_train_ = Y_train_.reshape(1, 250)\n",
        "X_test  = X_test.reshape(3, 56)\n",
        "Y_test  = Y_test.reshape(1, 56)"
      ],
      "execution_count": 13,
      "outputs": []
    },
    {
      "cell_type": "markdown",
      "metadata": {
        "id": "aS5ksx3RN9A5"
      },
      "source": [
        "##1)"
      ]
    },
    {
      "cell_type": "code",
      "metadata": {
        "id": "qYy_z3cf9VLh"
      },
      "source": [
        "m = Model()\n",
        "m.add_layers([3, 16, 16, 16, 1]) #3 hidden layers\n",
        "m.train(X_train_, Y_train_, alpha = 0.9, decay_rate = 0.98, decay_iter = 10, stop_decay_counter = 100, iterations = 500, verbose = False, lam = 2)"
      ],
      "execution_count": 14,
      "outputs": []
    },
    {
      "cell_type": "code",
      "metadata": {
        "colab": {
          "base_uri": "https://localhost:8080/",
          "height": 0
        },
        "id": "_oPfmn4J9VLi",
        "outputId": "7784af47-b4a5-4876-9092-5053c505868a"
      },
      "source": [
        "m.plot_cost()\n",
        "m.plot_acc()\n",
        "m.plot_alpha()\n",
        "print('Test set acc = ', m.evaluate(X_test, Y_test))"
      ],
      "execution_count": 15,
      "outputs": [
        {
          "output_type": "display_data",
          "data": {
            "image/png": "[encoded data removed]",
            "text/plain": [
              "<Figure size 432x288 with 1 Axes>"
            ]
          },
          "metadata": {
            "needs_background": "light"
          }
        },
        {
          "output_type": "display_data",
          "data": {
            "image/png": "[encoded data removed]",
            "text/plain": [
              "<Figure size 432x288 with 1 Axes>"
            ]
          },
          "metadata": {
            "needs_background": "light"
          }
        },
        {
          "output_type": "display_data",
          "data": {
            "image/png": "[encoded data removed]",
            "text/plain": [
              "<Figure size 432x288 with 1 Axes>"
            ]
          },
          "metadata": {
            "needs_background": "light"
          }
        },
        {
          "output_type": "stream",
          "name": "stdout",
          "text": [
            "Test set acc =  0.6964285714285714\n"
          ]
        }
      ]
    },
    {
      "cell_type": "markdown",
      "metadata": {
        "id": "GdUjSwfTOFH9"
      },
      "source": [
        "#2) changing the value of alpha"
      ]
    },
    {
      "cell_type": "code",
      "metadata": {
        "id": "AQ7YJxks9VLi"
      },
      "source": [
        "m = Model()\n",
        "m.add_layers([3, 16, 16, 16, 1])\n",
        "m.train(X_train_, Y_train_, alpha = 0.0001, decay_rate = 0.98, decay_iter = 10, stop_decay_counter = 100, iterations = 500, verbose = False, lam = 2)"
      ],
      "execution_count": 16,
      "outputs": []
    },
    {
      "cell_type": "code",
      "metadata": {
        "colab": {
          "base_uri": "https://localhost:8080/",
          "height": 780
        },
        "id": "R48A7Azo9VLi",
        "outputId": "bc665182-9b3d-484b-dee8-ca3dff1eeca3"
      },
      "source": [
        "m.plot_cost()\n",
        "m.plot_acc()\n",
        "m.plot_alpha()\n",
        "print('Test set acc = ', m.evaluate(X_test, Y_test))"
      ],
      "execution_count": 17,
      "outputs": [
        {
          "output_type": "display_data",
          "data": {
            "image/png": "[encoded data removed]",
            "text/plain": [
              "<Figure size 432x288 with 1 Axes>"
            ]
          },
          "metadata": {
            "needs_background": "light"
          }
        },
        {
          "output_type": "display_data",
          "data": {
            "image/png": "[encoded data removed]",
            "text/plain": [
              "<Figure size 432x288 with 1 Axes>"
            ]
          },
          "metadata": {
            "needs_background": "light"
          }
        },
        {
          "output_type": "display_data",
          "data": {
            "image/png": "[encoded data removed]",
            "text/plain": [
              "<Figure size 432x288 with 1 Axes>"
            ]
          },
          "metadata": {
            "needs_background": "light"
          }
        },
        {
          "output_type": "stream",
          "name": "stdout",
          "text": [
            "Test set acc =  0.2857142857142857\n"
          ]
        }
      ]
    },
    {
      "cell_type": "markdown",
      "metadata": {
        "id": "KgmoaFlQOO0Q"
      },
      "source": [
        "#3) changing the value of decay_rate"
      ]
    },
    {
      "cell_type": "markdown",
      "metadata": {
        "id": "QFl9WON4Zx7d"
      },
      "source": [
        ""
      ]
    },
    {
      "cell_type": "code",
      "metadata": {
        "id": "092l7xFAHFCk"
      },
      "source": [
        "m = Model()\n",
        "m.add_layers([3, 16, 16, 16, 1])\n",
        "m.train(X_train_, Y_train_, alpha = 0.9, decay_rate = 0.01, decay_iter = 10, stop_decay_counter = 100, iterations = 500, verbose = False, lam = 2)"
      ],
      "execution_count": 18,
      "outputs": []
    },
    {
      "cell_type": "code",
      "metadata": {
        "colab": {
          "base_uri": "https://localhost:8080/",
          "height": 778
        },
        "id": "ii_eG1GdHI0u",
        "outputId": "7cd2f66d-1407-4947-f659-5d00aa8afe19"
      },
      "source": [
        "m.plot_cost()\n",
        "m.plot_acc() \n",
        "m.plot_alpha()\n",
        "print('Test set acc = ', m.evaluate(X_test, Y_test))"
      ],
      "execution_count": 19,
      "outputs": [
        {
          "output_type": "display_data",
          "data": {
            "image/png": "[encoded data removed]",
            "text/plain": [
              "<Figure size 432x288 with 1 Axes>"
            ]
          },
          "metadata": {
            "needs_background": "light"
          }
        },
        {
          "output_type": "display_data",
          "data": {
            "image/png": "[encoded data removed]",
            "text/plain": [
              "<Figure size 432x288 with 1 Axes>"
            ]
          },
          "metadata": {
            "needs_background": "light"
          }
        },
        {
          "output_type": "display_data",
          "data": {
            "image/png": "[encoded data removed]",
            "text/plain": [
              "<Figure size 432x288 with 1 Axes>"
            ]
          },
          "metadata": {
            "needs_background": "light"
          }
        },
        {
          "output_type": "stream",
          "name": "stdout",
          "text": [
            "Test set acc =  0.6964285714285714\n"
          ]
        }
      ]
    },
    {
      "cell_type": "markdown",
      "metadata": {
        "id": "IMgSo7SOOYP5"
      },
      "source": [
        "#4) changing the value of decay_iter"
      ]
    },
    {
      "cell_type": "code",
      "metadata": {
        "id": "P9dq5hAPH3zT"
      },
      "source": [
        "m = Model()\n",
        "m.add_layers([3, 16, 16, 16, 1])\n",
        "m.train(X_train_, Y_train_, alpha = 0.9, decay_rate = 0.98, decay_iter = 70, stop_decay_counter = 100, iterations = 500, verbose = False, lam = 2)"
      ],
      "execution_count": 20,
      "outputs": []
    },
    {
      "cell_type": "code",
      "metadata": {
        "colab": {
          "base_uri": "https://localhost:8080/",
          "height": 779
        },
        "id": "agJLRTEKIFvR",
        "outputId": "acb2b494-dd7e-4b42-ab04-caf2e2b578ef"
      },
      "source": [
        "m.plot_cost()\n",
        "m.plot_acc()\n",
        "m.plot_alpha()\n",
        "print('Test set acc = ', m.evaluate(X_test, Y_test))"
      ],
      "execution_count": 21,
      "outputs": [
        {
          "output_type": "display_data",
          "data": {
            "image/png": "[encoded data removed]",
            "text/plain": [
              "<Figure size 432x288 with 1 Axes>"
            ]
          },
          "metadata": {
            "needs_background": "light"
          }
        },
        {
          "output_type": "display_data",
          "data": {
            "image/png": "[encoded data removed]",
            "text/plain": [
              "<Figure size 432x288 with 1 Axes>"
            ]
          },
          "metadata": {
            "needs_background": "light"
          }
        },
        {
          "output_type": "display_data",
          "data": {
            "image/png": "[encoded data removed]",
            "text/plain": [
              "<Figure size 432x288 with 1 Axes>"
            ]
          },
          "metadata": {
            "needs_background": "light"
          }
        },
        {
          "output_type": "stream",
          "name": "stdout",
          "text": [
            "Test set acc =  0.6964285714285714\n"
          ]
        }
      ]
    },
    {
      "cell_type": "markdown",
      "metadata": {
        "id": "9_OfdHVxOiBu"
      },
      "source": [
        "#5) changing the value of stop_decay_counter"
      ]
    },
    {
      "cell_type": "code",
      "metadata": {
        "id": "UIUQgJ8tIm0b"
      },
      "source": [
        "m = Model()\n",
        "m.add_layers([3, 16, 16, 16, 1])\n",
        "m.train(X_train_, Y_train_, alpha = 0.9, decay_rate = 0.98, decay_iter = 10, stop_decay_counter = 10, iterations = 5000, verbose = False, lam = 2)"
      ],
      "execution_count": null,
      "outputs": []
    },
    {
      "cell_type": "code",
      "metadata": {
        "id": "F2DZuujlIo0t"
      },
      "source": [
        "m.plot_cost()\n",
        "m.plot_acc()\n",
        "m.plot_alpha()\n",
        "print('Test set acc = ', m.evaluate(X_test, Y_test))"
      ],
      "execution_count": null,
      "outputs": []
    },
    {
      "cell_type": "markdown",
      "metadata": {
        "id": "WfW44JsOOmw2"
      },
      "source": [
        "#6) changing the value of iterations"
      ]
    },
    {
      "cell_type": "code",
      "metadata": {
        "id": "6BY165d1JTgU"
      },
      "source": [
        "m = Model()\n",
        "m.add_layers([3, 16, 16, 16, 1])\n",
        "m.train(X_train_, Y_train_, alpha = 0.9, decay_rate = 0.98, decay_iter = 10, stop_decay_counter = 100, iterations = 500, verbose = False, lam = 2)"
      ],
      "execution_count": null,
      "outputs": []
    },
    {
      "cell_type": "code",
      "metadata": {
        "id": "SLchKLsIJY5h"
      },
      "source": [
        "m.plot_cost()\n",
        "m.plot_acc()\n",
        "m.plot_alpha()\n",
        "print('Test set acc = ', m.evaluate(X_test, Y_test))"
      ],
      "execution_count": null,
      "outputs": []
    },
    {
      "cell_type": "markdown",
      "metadata": {
        "id": "vsm_Wp0_O2D3"
      },
      "source": [
        "#7) changing the value of lam"
      ]
    },
    {
      "cell_type": "code",
      "metadata": {
        "id": "WaOgjXNaJz2m"
      },
      "source": [
        "m = Model()\n",
        "m.add_layers([3, 16, 16, 16, 1])\n",
        "m.train(X_train_, Y_train_, alpha = 0.9, decay_rate = 0.98, decay_iter = 10, stop_decay_counter = 100, iterations = 500, verbose = False, lam = 0)"
      ],
      "execution_count": null,
      "outputs": []
    },
    {
      "cell_type": "code",
      "metadata": {
        "id": "RzlANXSCJ8Z5"
      },
      "source": [
        "m.plot_cost()\n",
        "m.plot_acc()\n",
        "m.plot_alpha()\n",
        "print('Test set acc = ', m.evaluate(X_test, Y_test))"
      ],
      "execution_count": null,
      "outputs": []
    },
    {
      "cell_type": "markdown",
      "metadata": {
        "id": "vXd1K1sFO7ud"
      },
      "source": [
        "#8) changing the value of 3 hidden layers"
      ]
    },
    {
      "cell_type": "code",
      "metadata": {
        "id": "ZYgoQOEaKOu5"
      },
      "source": [
        "m = Model()\n",
        "m.add_layers([3, 4, 17, 5, 1])\n",
        "m.train(X_train_, Y_train_, alpha = 0.9, decay_rate = 0.98, decay_iter = 10, stop_decay_counter = 100, iterations = 50, verbose = False, lam = 2)"
      ],
      "execution_count": null,
      "outputs": []
    },
    {
      "cell_type": "code",
      "metadata": {
        "id": "mYbzav9OKQKn"
      },
      "source": [
        "m.plot_cost()\n",
        "m.plot_acc()\n",
        "m.plot_alpha()\n",
        "print('Test set acc = ', m.evaluate(X_test, Y_test))"
      ],
      "execution_count": null,
      "outputs": []
    },
    {
      "cell_type": "markdown",
      "metadata": {
        "id": "72N5lWJgPCCL"
      },
      "source": [
        "#9) changing the values of 3 hidden layers, alpha, and decay_rate in the same time"
      ]
    },
    {
      "cell_type": "code",
      "metadata": {
        "id": "IFMtXWvxMFOw"
      },
      "source": [
        "m = Model()\n",
        "m.add_layers([3, 20, 17, 16, 1])\n",
        "m.train(X_train_, Y_train_, alpha = 0.01, decay_rate = 0.99, decay_iter = 10, stop_decay_counter = 100, iterations = 50, verbose = False, lam = 2)"
      ],
      "execution_count": null,
      "outputs": []
    },
    {
      "cell_type": "code",
      "metadata": {
        "id": "7rbrLD3KMH5S"
      },
      "source": [
        "m.plot_cost()\n",
        "m.plot_acc() \n",
        "m.plot_alpha()\n",
        "print('Test set acc = ', m.evaluate(X_test, Y_test))"
      ],
      "execution_count": null,
      "outputs": []
    },
    {
      "cell_type": "markdown",
      "metadata": {
        "id": "5p_l1gzuPLQG"
      },
      "source": [
        "#10) changing the values of 3 hidden layers, alpha, decay_rate, and lam"
      ]
    },
    {
      "cell_type": "code",
      "metadata": {
        "id": "YsGI1QCeNlvR"
      },
      "source": [
        "m = Model() \n",
        "m.add_layers([3, 34, 20, 16, 1])\n",
        "m.train(X_train_, Y_train_, alpha = 0.01, decay_rate = 0.9, decay_iter = 10, stop_decay_counter = 10, iterations = 50, verbose = False, lam = 0.1)"
      ],
      "execution_count": null,
      "outputs": []
    },
    {
      "cell_type": "code",
      "metadata": {
        "id": "6_WOReltNnFK"
      },
      "source": [
        "m.plot_cost()\n",
        "m.plot_acc()\n",
        "m.plot_alpha() \n",
        "print('Test set acc = ', m.evaluate(X_test, Y_test))"
      ],
      "execution_count": null,
      "outputs": []
    },
    {
      "cell_type": "markdown",
      "metadata": {
        "id": "4cu3X-n9bbq0"
      },
      "source": [
        "# Conclusion"
      ]
    },
    {
      "cell_type": "markdown",
      "metadata": {
        "id": "FKrDsXWfbeWq"
      },
      "source": [
        "* If decay was alpha, after number of decay_iter iterations, the value will be alpha*decay_rate.\n",
        "* The value of lam affect to fluctuation of graph.\n",
        "* In the function 'def init_params(self)', there has 'np.random' that make the initial random each time we run result in unstable value."
      ]
    }
  ]
}